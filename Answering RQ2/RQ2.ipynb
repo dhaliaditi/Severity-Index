{
 "cells": [
  {
   "cell_type": "code",
   "execution_count": 1,
   "id": "38fbc601-2b3e-41af-8b85-f18793584a1b",
   "metadata": {},
   "outputs": [
    {
     "name": "stderr",
     "output_type": "stream",
     "text": [
     
     ]
    },
    {
     "ename": "AttributeError",
     "evalue": "_ARRAY_API not found",
     
     "traceback": [
     
     ]
    },
    {
     "name": "stdout",
     "output_type": "stream",
     "text": [
      "Risk group summary saved at: /../../../severity_range.csv\n"
     ]
    }
   ],
   "source": [
    "import pandas as pd\n",
    "\n",
    "# Load the CSV file\n",
    "df = pd.read_csv(\"/../../../2group_training.csv\")\n",
    "\n",
    "# Ensure columns are correctly named; replace 'Version', 'Severity Factor' with actual column names if different\n",
    "version_column = 'Version'  # replace with actual column name for version\n",
    "risk_group_column = 'Risk_Group'  # replace with actual column name for risk group\n",
    "metric_column = 'Total_adjusted_combined'  # replace with actual metric column name, if you have a numerical metric\n",
    "\n",
    "# Initialize summary list\n",
    "summary = []\n",
    "\n",
    "# Group by version and risk group and calculate metric ranges for each group\n",
    "for (version, risk_group), group in df.groupby([version_column, risk_group_column]):\n",
    "    summary_entry = {\n",
    "        'Release': version,\n",
    "        'Risk Group': risk_group,\n",
    "        'Metric Range': f\"{group[metric_column].min():.2f} - {group[metric_column].max():.2f}\"\n",
    "    }\n",
    "    summary.append(summary_entry)\n",
    "\n",
    "# Convert summary to DataFrame\n",
    "summary_df = pd.DataFrame(summary)\n",
    "\n",
    "# Format the output into CSV instead of Excel\n",
    "output_path = \"/../../../severity_range.csv\"\n",
    "summary_df.to_csv(output_path, index=False)\n",
    "\n",
    "print(f\"Risk group summary saved at: {output_path}\")\n"
   ]
  },
  {
   "cell_type": "code",
   "execution_count": null,
   "id": "7fbb5c12-10e5-46a1-9612-5f91cfc7b0b9",
   "metadata": {},
   "outputs": [],
   "source": []
  }
 ],
 "metadata": {
  "kernelspec": {
   "display_name": "Python 3 (ipykernel)",
   "language": "python",
   "name": "python3"
  },
  "language_info": {
   "codemirror_mode": {
    "name": "ipython",
    "version": 3
   },
   "file_extension": ".py",
   "mimetype": "text/x-python",
   "name": "python",
   "nbconvert_exporter": "python",
   "pygments_lexer": "ipython3",
   "version": "3.10.9"
  }
 },
 "nbformat": 4,
 "nbformat_minor": 5
}
